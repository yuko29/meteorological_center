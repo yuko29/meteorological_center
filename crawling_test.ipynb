{
 "cells": [
  {
   "cell_type": "code",
   "execution_count": 6,
   "id": "0154ef55",
   "metadata": {},
   "outputs": [],
   "source": [
    "from bs4 import BeautifulSoup\n",
    "import requests\n",
    "import re"
   ]
  },
  {
   "cell_type": "markdown",
   "id": "f65ca810",
   "metadata": {},
   "source": [
    "# 水庫"
   ]
  },
  {
   "cell_type": "code",
   "execution_count": 2,
   "id": "6858ebde",
   "metadata": {},
   "outputs": [],
   "source": [
    "water = requests.get(\"https://fhy.wra.gov.tw/ReservoirPage_2011/Statistics.aspx\") #將此頁面的HTML GET下來\n",
    "#print(water.text) #印出HTML"
   ]
  },
  {
   "cell_type": "code",
   "execution_count": 3,
   "id": "31ef7d3a",
   "metadata": {
    "scrolled": true
   },
   "outputs": [
    {
     "name": "stdout",
     "output_type": "stream",
     "text": [
      "石門水庫\n",
      "水情時間: 2023-05-13 03:00:00\n",
      "有效蓄水量: 7,440.89\n",
      "蓄水百分比: 36.25 %\n",
      "\n",
      "寶山第二水庫\n",
      "水情時間: 2023-05-13 02:00:00\n",
      "有效蓄水量: 2,051.06\n",
      "蓄水百分比: 65.17 %\n",
      "\n",
      "永和山水庫\n",
      "水情時間: 2023-05-12 07:00:00\n",
      "有效蓄水量: 1,754.80\n",
      "蓄水百分比: 58.62 %\n",
      "\n",
      "鯉魚潭水庫\n",
      "水情時間: 2023-05-13 02:00:00\n",
      "有效蓄水量: 4,525.81\n",
      "蓄水百分比: 39.16 %\n",
      "\n",
      "德基水庫\n",
      "水情時間: 2023-05-12 07:00:00\n",
      "有效蓄水量: 9,230.85\n",
      "蓄水百分比: 48.93 %\n",
      "\n",
      "南化水庫\n",
      "水情時間: 2023-05-12 07:00:00\n",
      "有效蓄水量: 1,774.30\n",
      "蓄水百分比: 19.83 %\n",
      "\n",
      "曾文水庫\n",
      "水情時間: 2023-05-13 03:00:00\n",
      "有效蓄水量: 3,296.00\n",
      "蓄水百分比: 6.5 %\n",
      "\n",
      "烏山頭水庫\n",
      "水情時間: 2023-05-12 07:00:00\n",
      "有效蓄水量: 4,170.00\n",
      "蓄水百分比: 52.65 %\n",
      "\n"
     ]
    }
   ],
   "source": [
    "soup = BeautifulSoup(water.text, 'html.parser')\n",
    "re_list = [\"石門水庫\", \"寶山第二水庫\", \"永和山水庫\", \"鯉魚潭水庫\", \"德基水庫\", \"南化水庫\", \"曾文水庫\", \"烏山頭水庫\"]\n",
    "for re in re_list:\n",
    "    stw = soup.find('a', string = re).find_parent().find_parent().find_all(\"td\")\n",
    "    print(re)\n",
    "    print(\"水情時間: \" + stw[1].string) # 水情時間\n",
    "    print(\"有效蓄水量: \" + stw[6].string) # 有效蓄水量\n",
    "    print(\"蓄水百分比: \" + stw[7].string) # 蓄水百分比\n",
    "    print()"
   ]
  },
  {
   "cell_type": "markdown",
   "id": "6021eb77",
   "metadata": {},
   "source": [
    "# 地震"
   ]
  },
  {
   "cell_type": "code",
   "execution_count": 4,
   "id": "1cf96b51",
   "metadata": {},
   "outputs": [],
   "source": [
    "earthquake = requests.get(\"https://scweb.cwb.gov.tw/\") #將此頁面的HTML GET下來\n",
    "#print(earthquake.text) #印出HTML"
   ]
  },
  {
   "cell_type": "code",
   "execution_count": 7,
   "id": "3cddb19a",
   "metadata": {},
   "outputs": [
    {
     "name": "stdout",
     "output_type": "stream",
     "text": [
      "[['2023051301302047036', '036   ', '2023-05-13 01:30:20', 4.7, 24.9, '臺東縣政府東北方  64.6  公里 (位於臺灣東部海域)', '4', '121.5783', '23.1833'], ['2023051205251844', '', '2023-05-12 05:25:18', 4.4, 24.7, '臺東縣政府南方  118.6  公里 (位於臺灣南部海域)', '2', '121.0315', '21.6898'], ['2023051106073537', '', '2023-05-11 06:07:35', 3.7, 5, '高雄市政府東北方  73.9  公里 (位於高雄市桃源區)', '3', '120.804', '23.1078'], ['2023050817231253', '', '2023-05-08 17:23:12', 5.3, 112.9, '宜蘭縣政府東方  91.9  公里 (位於臺灣東部海域)', '2', '122.6693', '24.6735'], ['2023050810025243', '', '2023-05-08 10:02:52', 4.3, 31.6, '花蓮縣政府南南西方  69.2  公里 (位於花蓮縣玉里鎮)', '2', '121.385', '23.4052'], ['2023050723545835', '', '2023-05-07 23:54:58', 3.5, 9.2, '宜蘭縣政府東北東方  20.7  公里 (位於臺灣東部海域)', '2', '121.9387', '24.8263'], ['2023050710373432', '', '2023-05-07 10:37:34', 3.2, 9.2, '南投縣政府東北東方  69.1  公里 (位於南投縣仁愛鄉)', '2', '121.2675', '24.2315'], ['2023050423382151035', '035   ', '2023-05-04 23:38:21', 5.1, 14.5, '花蓮縣政府南南西方  67.7  公里 (位於花蓮縣卓溪鄉)', '4', '121.3217', '23.4445'], ['2023050416552140', '', '2023-05-04 16:55:21', 4, 13.9, '花蓮縣政府南南東方  28.9  公里 (位於臺灣東部海域)', '2', '121.7168', '23.7462'], ['2023050416154739', '', '2023-05-04 16:15:47', 3.9, 7.5, '臺東縣政府西方  24.0  公里 (位於臺東縣卑南鄉)', '3', '120.9177', '22.7558']]\n",
      "\n",
      "最近一次地震\n",
      "時間:  2023-05-13 01:30:20\n",
      "規模:  4.7\n",
      "地震深度:  24.9\n",
      "東經:  121.5783\n",
      "北緯:  23.1833\n"
     ]
    }
   ],
   "source": [
    "html_content = earthquake.content.decode('utf-8')\n",
    "\n",
    "pattern = re.compile(r'var\\s+locations\\s*=\\s*([^;]+);')\n",
    "matches = pattern.findall(html_content)\n",
    "history = eval(matches[0])\n",
    "print(history)\n",
    "print()\n",
    "print(\"最近一次地震\")\n",
    "print(\"時間: \", history[0][2])\n",
    "print(\"規模: \", history[0][3])\n",
    "print(\"地震深度: \", history[0][4])\n",
    "print(\"東經: \", history[0][7])\n",
    "print(\"北緯: \", history[0][8])"
   ]
  },
  {
   "cell_type": "markdown",
   "id": "344f7eac",
   "metadata": {},
   "source": [
    "# 供電"
   ]
  },
  {
   "cell_type": "code",
   "execution_count": 8,
   "id": "47ec9c19",
   "metadata": {
    "scrolled": true
   },
   "outputs": [],
   "source": [
    "elec = requests.get(\"https://www.taiwanstat.com/powers/latest/\") #將此頁面的HTML GET下來\n",
    "#print(elec.text) #印出HTML"
   ]
  },
  {
   "cell_type": "code",
   "execution_count": 9,
   "id": "0918c4a6",
   "metadata": {},
   "outputs": [
    {
     "name": "stdout",
     "output_type": "stream",
     "text": [
      "北部即時發電量: 798.0 萬瓩\n",
      "東部即時發電量: 5.9 萬瓩\n",
      "南部即時發電量: 954.2 萬瓩\n",
      "中部即時發電量: 567.1 萬瓩\n",
      "\n",
      "北部即時用電量: 729.3 萬瓩\n",
      "東部即時用電量: 32.3 萬瓩\n",
      "南部即時用電量: 879.9 萬瓩\n",
      "中部即時用電量: 683.7 萬瓩\n"
     ]
    }
   ],
   "source": [
    "northSupply = elec.json()[\"regionData\"][\"northSupply\"]   #北部即時發電量\n",
    "eastSupply = elec.json()[\"regionData\"][\"eastSupply\"]     #東部即時發電量\n",
    "southSupply = elec.json()[\"regionData\"][\"southSupply\"]   #南部即時發電量\n",
    "centerSupply = elec.json()[\"regionData\"][\"centerSupply\"] #中部即時發電量\n",
    "print(\"北部即時發電量: \" + northSupply + \" 萬瓩\")\n",
    "print(\"東部即時發電量: \" + eastSupply + \" 萬瓩\")\n",
    "print(\"南部即時發電量: \" + southSupply + \" 萬瓩\")\n",
    "print(\"中部即時發電量: \" + centerSupply+ \" 萬瓩\")\n",
    "print()\n",
    "northUsage = elec.json()[\"regionData\"][\"northUsage\"]   #北部即時用電量\n",
    "eastUsage = elec.json()[\"regionData\"][\"eastUsage\"]     #東部即時用電量\n",
    "southUsage = elec.json()[\"regionData\"][\"southUsage\"]   #南部即時用電量\n",
    "centerUsage = elec.json()[\"regionData\"][\"centerUsage\"] #中部即時用電量\n",
    "print(\"北部即時用電量: \" + northUsage + \" 萬瓩\")\n",
    "print(\"東部即時用電量: \" + eastUsage + \" 萬瓩\")\n",
    "print(\"南部即時用電量: \" + southUsage + \" 萬瓩\")\n",
    "print(\"中部即時用電量: \" + centerUsage+ \" 萬瓩\")"
   ]
  }
 ],
 "metadata": {
  "kernelspec": {
   "display_name": "Python 3 (ipykernel)",
   "language": "python",
   "name": "python3"
  },
  "language_info": {
   "codemirror_mode": {
    "name": "ipython",
    "version": 3
   },
   "file_extension": ".py",
   "mimetype": "text/x-python",
   "name": "python",
   "nbconvert_exporter": "python",
   "pygments_lexer": "ipython3",
   "version": "3.11.1"
  }
 },
 "nbformat": 4,
 "nbformat_minor": 5
}
